{
 "metadata": {
  "name": ""
 },
 "nbformat": 3,
 "nbformat_minor": 0,
 "worksheets": [
  {
   "cells": [
    {
     "cell_type": "heading",
     "level": 2,
     "metadata": {},
     "source": [
      "Imports"
     ]
    },
    {
     "cell_type": "code",
     "collapsed": false,
     "input": [
      "import sys\n",
      "import math\n",
      "import os"
     ],
     "language": "python",
     "metadata": {},
     "outputs": [],
     "prompt_number": 3
    },
    {
     "cell_type": "heading",
     "level": 2,
     "metadata": {},
     "source": [
      "Classes"
     ]
    },
    {
     "cell_type": "code",
     "collapsed": false,
     "input": [
      "class resource:\n",
      "    \"\"\"\n",
      "    \"\"\"\n",
      "    def __init__(self, name, amount = 10):\n",
      "        self.name = name\n",
      "        self.quantity = amount\n",
      "    def add(self, amount):\n",
      "        self.quantity += amount\n",
      "    def consume(self, amount):\n",
      "        self.quantity -= amount\n",
      "    def get_value(self):\n",
      "        return self.quantity\n",
      "    \n",
      "class agent:\n",
      "    \"\"\"\n",
      "    \"\"\"\n",
      "    def __init__(self, name, require, output):\n",
      "        self.name = name\n",
      "        self.r = require\n",
      "        self.o = output\n",
      "    def requires(self):\n",
      "        return self.r\n",
      "    def outputs(self):\n",
      "        return self.o"
     ],
     "language": "python",
     "metadata": {},
     "outputs": []
    },
    {
     "cell_type": "heading",
     "level": 2,
     "metadata": {},
     "source": [
      "Convenience functions"
     ]
    },
    {
     "cell_type": "code",
     "collapsed": false,
     "input": [
      "def constrained_sum_sample_pos(n, total):\n",
      "    \"\"\"Return a randomly chosen list of n positive integers summing to total.\n",
      "    Each such list is equally likely to occur.\"\"\"\n",
      "\n",
      "    dividers = sorted(random.sample(xrange(1, total), n - 1))\n",
      "    return [a - b for a, b in zip(dividers + [total], [0] + dividers)]    \n",
      "    \n",
      "def print_community(pop):\n",
      "    for k,v in Counter(pop).items():\n",
      "        print k.name, v"
     ],
     "language": "python",
     "metadata": {},
     "outputs": []
    },
    {
     "cell_type": "heading",
     "level": 2,
     "metadata": {},
     "source": [
      "Read in parameters"
     ]
    },
    {
     "cell_type": "code",
     "collapsed": false,
     "input": [
      "compound_dict = {}\n",
      "# read in all compounds - since this is static, maybe store as db to reduce memory\n",
      "with open('compound.tsv','r') as compounds:\n",
      "    for line in compounds:\n",
      "        (compound_number, compound_name, temp) = line.strip().split()\n",
      "        compound_dict[compound_number] = [compound_name]\n",
      "\n",
      "# read in species totals\n",
      "with open('species_totals.tsv', 'r') as f:\n",
      "    for line in f:\n",
      "        (name, count) = line.strip().split()\n",
      "        species_totals[name] = count\n",
      "        \n",
      "# read in org seedfiles\n",
      "for myfile in seedfiles:\n",
      "    with open(myfile, 'r') as f:\n",
      "        requires = [x.split()[0] for x in f.readlines()]\n",
      "        outputs = [x.split()[0] for x in outputs.readlines()]\n",
      "        resources.extend( requires )\n",
      "        name = myfile.split(\".\")[0] #myfile = 'Clostridium_difficile630.seed.tsv'\n",
      "        species.append(name)\n",
      "        this_agent = agent(name, requires, outputs)\n",
      "    population.extend( [this_agent for y in xrange(species_totals[name])] )\n",
      "\n",
      "resources = list(set(resources)) # remove duplicate resources\n",
      "\n",
      "resource_pool = [] #list of resources taken from the resource_abund dict\n",
      "with open('resources.tsv', 'r') as resource_file:\n",
      "    for line in resource_file:\n",
      "        (name, quant) = line.strip().split()\n",
      "        resource_pool.append(resource(name, quant))\n",
      "                         \n",
      "for s in species: #species is list of strings\n",
      "    population.extend[agent(s, species[s][0], species[s][1])]"
     ],
     "language": "python",
     "metadata": {},
     "outputs": []
    },
    {
     "cell_type": "heading",
     "level": 2,
     "metadata": {},
     "source": [
      "Run the model"
     ]
    },
    {
     "cell_type": "code",
     "collapsed": false,
     "input": [
      "print \"initial population:\"\n",
      "print_community(population)\n",
      "#run\n",
      "for step in xrange(time):\n",
      "    for i in population:\n",
      "        (required_resource, required_amount) = i.requires()\n",
      "        (output_resource, output_amount) = i.outputs()\n",
      "        if required_resource.get_value() >= required_amount:\n",
      "            required_resource.consume(required_amount)\n",
      "            output_resource.add(output_amount)\n",
      "        else:\n",
      "            population.remove(i)\n",
      "    \n",
      "    #track resources for plotting\n",
      "    for i in resource_pool:\n",
      "        stepdict[i.name].append(i.get_value())\n",
      "    \n",
      "    for k, v in Counter(population).items():\n",
      "        popdict[k.name].append(v)\n",
      "    \n",
      "    if len(population) == 0:\n",
      "        break\n",
      "\n",
      "print \"steps:\", step+1, \"out of\", time\n",
      "\n",
      "print \"final population size:\", len(population)\n",
      "print_community(population)\n",
      "\n",
      "print \"final resources:\"\n",
      "for i in resource_pool:\n",
      "    print i.name, i.get_value()"
     ],
     "language": "python",
     "metadata": {},
     "outputs": []
    },
    {
     "cell_type": "markdown",
     "metadata": {},
     "source": [
      "Copyright (C) 2014 Kathryn Iverson\n",
      "\n",
      "This program is free software: you can redistribute it and/or modify\n",
      "it under the terms of the GNU General Public License as published by\n",
      "the Free Software Foundation, either version 3 of the License, or\n",
      "(at your option) any later version.\n",
      " \n",
      "This program is distributed in the hope that it will be useful,\n",
      "but WITHOUT ANY WARRANTY; without even the implied warranty of\n",
      "MERCHANTABILITY or FITNESS FOR A PARTICULAR PURPOSE.  See the\n",
      "GNU General Public License for more details.\n",
      " \n",
      "You should have received a copy of the GNU General Public License\n",
      "along with this program.  If not, see http://www.gnu.org/licenses/."
     ]
    }
   ],
   "metadata": {}
  }
 ]
}
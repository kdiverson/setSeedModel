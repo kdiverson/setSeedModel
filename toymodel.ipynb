{
 "metadata": {
  "name": ""
 },
 "nbformat": 3,
 "nbformat_minor": 0,
 "worksheets": [
  {
   "cells": [
    {
     "cell_type": "code",
     "collapsed": false,
     "input": [
      "import random\n",
      "from collections import Counter\n",
      "\n",
      "def constrained_sum_sample_pos(n, total):\n",
      "    \"\"\"Return a randomly chosen list of n positive integers summing to total.\n",
      "    Each such list is equally likely to occur.\"\"\"\n",
      "\n",
      "    dividers = sorted(random.sample(xrange(1, total), n - 1))\n",
      "    return [a - b for a, b in zip(dividers + [total], [0] + dividers)]\n",
      "\n",
      "class resource:\n",
      "    \"\"\"\n",
      "    \"\"\"\n",
      "    def __init__(self, _name, amount = 10):\n",
      "        self.name = _name\n",
      "        self.quantity = amount\n",
      "    def add(self, amount):\n",
      "        self.quantity += amount\n",
      "    def consume(self, amount):\n",
      "        self.quantity -= amount\n",
      "    def get_value(self):\n",
      "        return self.quantity\n",
      "\n",
      "class resource_pool:\n",
      "    def __init__(self, resources):\n",
      "        self.r = resources\n",
      "    \n",
      "class agent:\n",
      "    \"\"\"\n",
      "    \"\"\"\n",
      "    def __init__(self, _name, require, output):\n",
      "        self.name = _name\n",
      "        self.r = require\n",
      "        self.o = output\n",
      "    def requires(self):\n",
      "        return self.r\n",
      "    def outputs(self):\n",
      "        return self.o\n",
      "\n",
      "def print_community(pop):\n",
      "    for k,v in Counter(pop).items():\n",
      "        print k.name, v\n",
      "    \n",
      "time = 10000\n",
      "    \n",
      "#set resources, global\n",
      "a = resource(\"a\", 100)\n",
      "b = resource(\"b\", 75)\n",
      "c = resource(\"c\", 50)\n",
      "d = resource(\"d\", 100)\n",
      "\n",
      "resource_pool = [a,b,c,d]\n",
      "\n",
      "#set species\n",
      "s1 = agent(\"s1\", (a,15), (b,20))\n",
      "s2 = agent(\"s2\", (b,25), (c,20))\n",
      "s3 = agent(\"s3\", (c,5), (d,20))\n",
      "s4 = agent(\"s4\", (d,15), (a,20))\n",
      "\n",
      "species = [s1, s2, s3, s4]\n",
      "population = []\n",
      "\n",
      "#generate abundance randomly\n",
      "x = constrained_sum_sample_pos(4, 50)\n",
      "\n",
      "population.extend([s1 for y in xrange(x[0])])\n",
      "population.extend([s2 for y in xrange(x[1])])\n",
      "population.extend([s3 for y in xrange(x[2])])\n",
      "population.extend([s4 for y in xrange(x[3])])\n",
      "\n",
      "random.shuffle(population)\n",
      "\n",
      "print \"initial population:\"\n",
      "print_community(population)\n",
      "\n",
      "#run\n",
      "for step in xrange(time):\n",
      "    for i in population:\n",
      "        (required_resource, required_amount) = i.requires()\n",
      "        (output_resource, output_amount) = i.outputs()\n",
      "        if required_resource.get_value() >= required_amount:\n",
      "            required_resource.consume(required_amount)\n",
      "            output_resource.add(output_amount)\n",
      "        else:\n",
      "            population.remove(i)\n",
      "        \n",
      "    if len(population) == 0:\n",
      "        break\n",
      "\n",
      "print \"time:\", step\n",
      "\n",
      "print \"final population size:\", len(population)\n",
      "print_community(population)\n",
      "\n",
      "for i in resource_pool:\n",
      "    print i.name, i.get_value()\n",
      "        \n",
      "#plot resources over time\n",
      "\n",
      "#plot population over time"
     ],
     "language": "python",
     "metadata": {},
     "outputs": [
      {
       "output_type": "stream",
       "stream": "stdout",
       "text": [
        "initial population:\n",
        "s1 5\n",
        "s4 8\n",
        "s3 26\n",
        "s2 11\n",
        "time:"
       ]
      },
      {
       "output_type": "stream",
       "stream": "stdout",
       "text": [
        " 9999\n",
        "final population size: 22\n",
        "s1 5\n",
        "s4 8\n",
        "s3 6\n",
        "s2 3\n",
        "a 850005\n",
        "b 249990\n",
        "c 299880\n",
        "d 965\n"
       ]
      }
     ],
     "prompt_number": 75
    },
    {
     "cell_type": "code",
     "collapsed": false,
     "input": [
      "from collections import Counter\n",
      "mylist = [20, 30, 25, 20, 25]\n",
      "for k,v in Counter(mylist).items():\n",
      "    print k, v"
     ],
     "language": "python",
     "metadata": {},
     "outputs": [
      {
       "output_type": "stream",
       "stream": "stdout",
       "text": [
        "25 2\n",
        "20 2\n",
        "30 1\n"
       ]
      }
     ],
     "prompt_number": 66
    },
    {
     "cell_type": "code",
     "collapsed": false,
     "input": [],
     "language": "python",
     "metadata": {},
     "outputs": []
    }
   ],
   "metadata": {}
  }
 ]
}
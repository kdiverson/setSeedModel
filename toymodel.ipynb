{
 "metadata": {
  "name": ""
 },
 "nbformat": 3,
 "nbformat_minor": 0,
 "worksheets": [
  {
   "cells": [
    {
     "cell_type": "code",
     "collapsed": false,
     "input": [
      "%matplotlib inline"
     ],
     "language": "python",
     "metadata": {},
     "outputs": [],
     "prompt_number": 83
    },
    {
     "cell_type": "heading",
     "level": 2,
     "metadata": {},
     "source": [
      "Imports"
     ]
    },
    {
     "cell_type": "code",
     "collapsed": false,
     "input": [
      "import random\n",
      "from collections import Counter\n",
      "import matplotlib.pyplot as plt\n",
      "import numpy as np"
     ],
     "language": "python",
     "metadata": {},
     "outputs": []
    },
    {
     "cell_type": "heading",
     "level": 2,
     "metadata": {},
     "source": [
      "Define classes"
     ]
    },
    {
     "cell_type": "code",
     "collapsed": false,
     "input": [
      "class resource:\n",
      "    \"\"\"\n",
      "    \"\"\"\n",
      "    def __init__(self, name, amount = 10):\n",
      "        self.name = name\n",
      "        self.quantity = amount\n",
      "    def add(self, amount):\n",
      "        self.quantity += amount\n",
      "    def consume(self, amount):\n",
      "        self.quantity -= amount\n",
      "    def get_value(self):\n",
      "        return self.quantity\n",
      "    \n",
      "class agent:\n",
      "    \"\"\"\n",
      "    \"\"\"\n",
      "    def __init__(self, name, require, output):\n",
      "        self.name = name\n",
      "        self.r = require\n",
      "        self.o = output\n",
      "    def requires(self):\n",
      "        return self.r\n",
      "    def outputs(self):\n",
      "        return self.o"
     ],
     "language": "python",
     "metadata": {},
     "outputs": []
    },
    {
     "cell_type": "heading",
     "level": 2,
     "metadata": {},
     "source": [
      "Convience functions"
     ]
    },
    {
     "cell_type": "code",
     "collapsed": false,
     "input": [
      "def constrained_sum_sample_pos(n, total):\n",
      "    \"\"\"Return a randomly chosen list of n positive integers summing to total.\n",
      "    Each such list is equally likely to occur.\"\"\"\n",
      "\n",
      "    dividers = sorted(random.sample(xrange(1, total), n - 1))\n",
      "    return [a - b for a, b in zip(dividers + [total], [0] + dividers)]    \n",
      "    \n",
      "def print_community(pop):\n",
      "    for k,v in Counter(pop).items():\n",
      "        print k.name, v"
     ],
     "language": "python",
     "metadata": {},
     "outputs": []
    },
    {
     "cell_type": "heading",
     "level": 2,
     "metadata": {},
     "source": [
      "Set parameters"
     ]
    },
    {
     "cell_type": "code",
     "collapsed": false,
     "input": [
      "time = 10000\n",
      "\n",
      "total_resources = 1000000\n",
      "x = constrained_sum_sample_pos(len(species), total_resources)\n",
      "\n",
      "#set resources, global\n",
      "a = resource(\"a\", 200000)\n",
      "b = resource(\"b\", 125000)\n",
      "c = resource(\"c\", 100000)\n",
      "d = resource(\"d\", 200000)\n",
      "\n",
      "resource_pool = [a,b,c,d]\n",
      "\n",
      "#set species\n",
      "s1 = agent(\"s1\", (a,150), (b,100))\n",
      "s2 = agent(\"s2\", (b,250), (c,200))\n",
      "s3 = agent(\"s3\", (c,50), (d,50))\n",
      "s4 = agent(\"s4\", (d,150), (a,20))\n",
      "s5 = agent(\"s5\", (a,15), (b,10))\n",
      "s6 = agent(\"s6\", (b,25), (c,20))\n",
      "s7 = agent(\"s7\", (c,5), (d,5))\n",
      "s8 = agent(\"s8\", (d,15), (a,20))\n",
      "\n",
      "species = [s1, s2, s3, s4, s5, s6, s7, s8]\n",
      "population = []\n",
      "\n",
      "#initialize resource counts, this is used for tracking resources over time\n",
      "stepdict = {}\n",
      "for i in resource_pool:\n",
      "    stepdict[i.name] = [i.get_value()]\n",
      "\n",
      "#generate abundance randomly\n",
      "x = constrained_sum_sample_pos(len(species), 1000)\n",
      "\n",
      "i = 0\n",
      "for s in species:\n",
      "    population.extend([s for y in xrange(x[i])])\n",
      "    i=i+1\n",
      "\n",
      "\n",
      "#population.extend([s1 for y in xrange(x[0])])\n",
      "#population.extend([s2 for y in xrange(x[1])])\n",
      "#population.extend([s3 for y in xrange(x[2])])\n",
      "#population.extend([s4 for y in xrange(x[3])])\n",
      "\n",
      "random.shuffle(population)\n",
      "\n",
      "popdict = {}\n",
      "for k, v in Counter(population).items():\n",
      "        popdict[k.name] = [v]"
     ],
     "language": "python",
     "metadata": {},
     "outputs": [],
     "prompt_number": 242
    },
    {
     "cell_type": "heading",
     "level": 1,
     "metadata": {},
     "source": [
      "Run the model"
     ]
    },
    {
     "cell_type": "code",
     "collapsed": false,
     "input": [
      "print \"initial population:\"\n",
      "print_community(population)\n",
      "#run\n",
      "for step in xrange(time):\n",
      "    for i in population:\n",
      "        (required_resource, required_amount) = i.requires()\n",
      "        (output_resource, output_amount) = i.outputs()\n",
      "        if required_resource.get_value() >= required_amount:\n",
      "            required_resource.consume(required_amount)\n",
      "            output_resource.add(output_amount)\n",
      "        else:\n",
      "            population.remove(i)\n",
      "    \n",
      "    #track resources for plotting\n",
      "    for i in resource_pool:\n",
      "        stepdict[i.name].append(i.get_value())\n",
      "    \n",
      "    for k, v in Counter(population).items():\n",
      "        popdict[k.name].append(v)\n",
      "    \n",
      "    if len(population) == 0:\n",
      "        break\n",
      "\n",
      "print \"steps:\", step+1, \"out of\", time\n",
      "\n",
      "print \"final population size:\", len(population)\n",
      "print_community(population)\n",
      "\n",
      "print \"final resources:\"\n",
      "for i in resource_pool:\n",
      "    print i.name, i.get_value()\n",
      "\n"
     ],
     "language": "python",
     "metadata": {},
     "outputs": [
      {
       "output_type": "stream",
       "stream": "stdout",
       "text": [
        "initial population:\n",
        "s1 5\n",
        "s2 201\n",
        "s6 42\n",
        "s7 116\n",
        "s8 34\n",
        "s3 470\n",
        "s4 54\n",
        "s5 78\n",
        "steps:"
       ]
      },
      {
       "output_type": "stream",
       "stream": "stdout",
       "text": [
        " 259 out of 10000\n",
        "final population size: 0\n",
        "final resources:\n",
        "a 10\n",
        "b 0\n",
        "c 0\n",
        "d 30\n"
       ]
      }
     ],
     "prompt_number": 243
    },
    {
     "cell_type": "heading",
     "level": 2,
     "metadata": {},
     "source": [
      "Plots"
     ]
    },
    {
     "cell_type": "code",
     "collapsed": false,
     "input": [
      "labs = []\n",
      "for k, v in stepdict.items():\n",
      "    plt.plot(v)\n",
      "    plt.title(\"resources\")\n",
      "    labs.append(k)\n",
      "plt.legend(labs, loc=2)"
     ],
     "language": "python",
     "metadata": {},
     "outputs": [
      {
       "metadata": {},
       "output_type": "pyout",
       "prompt_number": 244,
       "text": [
        "<matplotlib.legend.Legend at 0x114890650>"
       ]
      },
      {
       "metadata": {},
       "output_type": "display_data",
       "png": "[encoded data removed]",
       "text": [
        "<matplotlib.figure.Figure at 0x1148908d0>"
       ]
      }
     ],
     "prompt_number": 244
    },
    {
     "cell_type": "code",
     "collapsed": false,
     "input": [
      "labs = []\n",
      "for k, v in popdict.items():\n",
      "    plt.plot(v)\n",
      "    plt.title(\"population\")\n",
      "    labs.append(k)\n",
      "plt.legend(labs, loc=2)"
     ],
     "language": "python",
     "metadata": {},
     "outputs": [
      {
       "metadata": {},
       "output_type": "pyout",
       "prompt_number": 245,
       "text": [
        "<matplotlib.legend.Legend at 0x114d9b250>"
       ]
      },
      {
       "metadata": {},
       "output_type": "display_data",
       "png": "[encoded data removed]",
       "text": [
        "<matplotlib.figure.Figure at 0x114d9b5d0>"
       ]
      }
     ],
     "prompt_number": 245
    },
    {
     "cell_type": "code",
     "collapsed": false,
     "input": [],
     "language": "python",
     "metadata": {},
     "outputs": [],
     "prompt_number": 245
    },
    {
     "cell_type": "markdown",
     "metadata": {},
     "source": [
      "Copyright (C) 2014 Kathryn Iverson\n",
      "\n",
      "This program is free software: you can redistribute it and/or modify\n",
      "it under the terms of the GNU General Public License as published by\n",
      "the Free Software Foundation, either version 3 of the License, or\n",
      "(at your option) any later version.\n",
      " \n",
      "This program is distributed in the hope that it will be useful,\n",
      "but WITHOUT ANY WARRANTY; without even the implied warranty of\n",
      "MERCHANTABILITY or FITNESS FOR A PARTICULAR PURPOSE.  See the\n",
      "GNU General Public License for more details.\n",
      " \n",
      "You should have received a copy of the GNU General Public License\n",
      "along with this program.  If not, see http://www.gnu.org/licenses/."
     ]
    },
    {
     "cell_type": "code",
     "collapsed": false,
     "input": [],
     "language": "python",
     "metadata": {},
     "outputs": [],
     "prompt_number": 245
    }
   ],
   "metadata": {}
  }
 ]
}